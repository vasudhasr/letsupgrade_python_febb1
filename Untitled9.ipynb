{
  "nbformat": 4,
  "nbformat_minor": 0,
  "metadata": {
    "colab": {
      "name": "Untitled9.ipynb",
      "provenance": [],
      "authorship_tag": "ABX9TyNIPQA+7y94k3m5xHMmuLLD",
      "include_colab_link": true
    },
    "kernelspec": {
      "name": "python3",
      "display_name": "Python 3"
    }
  },
  "cells": [
    {
      "cell_type": "markdown",
      "metadata": {
        "id": "view-in-github",
        "colab_type": "text"
      },
      "source": [
        "<a href=\"https://colab.research.google.com/github/vasudhasr/letsupgrade_python_febb1/blob/main/Untitled9.ipynb\" target=\"_parent\"><img src=\"https://colab.research.google.com/assets/colab-badge.svg\" alt=\"Open In Colab\"/></a>"
      ]
    },
    {
      "cell_type": "code",
      "metadata": {
        "colab": {
          "base_uri": "https://localhost:8080/"
        },
        "id": "mQXyaQHBvVrS",
        "outputId": "3cc157ff-409f-43ca-f548-0ae11770b0b3"
      },
      "source": [
        "num=int(input(\"enter the number \"))\r\n",
        "if num>1:\r\n",
        "  for i in range(2,num):\r\n",
        "    if (num%i) ==0:\r\n",
        "      print(num,\"its not a prime\")\r\n",
        "      break\r\n",
        "    else:\r\n",
        "      print(num,\"is a prime\")\r\n",
        "  else:\r\n",
        "      print(num,\"is not a prime\")"
      ],
      "execution_count": 3,
      "outputs": [
        {
          "output_type": "stream",
          "text": [
            "enter the number 6\n",
            "6 its not a prime\n"
          ],
          "name": "stdout"
        }
      ]
    },
    {
      "cell_type": "code",
      "metadata": {
        "id": "_Y0SEOwIyl6W"
      },
      "source": [
        ""
      ],
      "execution_count": null,
      "outputs": []
    }
  ]
}