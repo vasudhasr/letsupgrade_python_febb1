{
  "nbformat": 4,
  "nbformat_minor": 0,
  "metadata": {
    "colab": {
      "name": "Untitled4.ipynb",
      "provenance": [],
      "authorship_tag": "ABX9TyMtONxy5apj4Iz/9yUpJbew",
      "include_colab_link": true
    },
    "kernelspec": {
      "name": "python3",
      "display_name": "Python 3"
    }
  },
  "cells": [
    {
      "cell_type": "markdown",
      "metadata": {
        "id": "view-in-github",
        "colab_type": "text"
      },
      "source": [
        "<a href=\"https://colab.research.google.com/github/vasudhasr/letsupgrade_python_febb1/blob/main/Assignment2.ipynb\" target=\"_parent\"><img src=\"https://colab.research.google.com/assets/colab-badge.svg\" alt=\"Open In Colab\"/></a>"
      ]
    },
    {
      "cell_type": "code",
      "metadata": {
        "colab": {
          "base_uri": "https://localhost:8080/"
        },
        "id": "DBD5dRIyK3EP",
        "outputId": "ff0fd89d-2e8f-4033-d8be-9625606e9973"
      },
      "source": [
        "alt=int(input(\"enter the altitude to land a plane\"))\r\n",
        "if alt<=1000:\r\n",
        "  print(\"then land the plane\")\r\n",
        "elif alt>1000 and alt<=5000:\r\n",
        "  print(\"ask the piolet to come down to 1000ft\")\r\n",
        "elif alt>5000:\r\n",
        "  print(\"go around and try later\")\r\n",
        "  "
      ],
      "execution_count": 3,
      "outputs": [
        {
          "output_type": "stream",
          "text": [
            "enter the altitude to land a plane6000\n",
            "go around and try later\n"
          ],
          "name": "stdout"
        }
      ]
    },
    {
      "cell_type": "code",
      "metadata": {
        "id": "jURHyLDqK42c"
      },
      "source": [
        ""
      ],
      "execution_count": null,
      "outputs": []
    }
  ]
}